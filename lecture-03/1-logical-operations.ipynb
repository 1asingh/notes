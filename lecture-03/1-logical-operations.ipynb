{
 "cells": [
  {
   "cell_type": "markdown",
   "metadata": {},
   "source": [
    "## Logical operations in Python\n",
    "\n",
    "### Numeric comparisons\n",
    "\n",
    "There are eight comparison operations in Python. Comparisons can be chained\n",
    "arbitrarily; for example, `x < y <= z` is equivalent to `x < y and y <= z`.\n",
    "\n",
    "Here is a summary of the Python comparison operators:\n",
    "\n",
    "* `<`: strictly less than\n",
    "* `<=`: less than or equal\n",
    "* `>`: strictly greater than\n",
    "* `>=`: greater than or equal\n",
    "* `==`: equal\n",
    "* `!=`: not equal\n",
    "\n",
    "All of these operations return a boolean values (`True` or `False`):"
   ]
  },
  {
   "cell_type": "code",
   "execution_count": null,
   "metadata": {},
   "outputs": [],
   "source": [
    "5 > 2"
   ]
  },
  {
   "cell_type": "code",
   "execution_count": null,
   "metadata": {},
   "outputs": [],
   "source": [
    "2 != 3"
   ]
  },
  {
   "cell_type": "code",
   "execution_count": null,
   "metadata": {},
   "outputs": [],
   "source": [
    "3.0 <= 3.0"
   ]
  },
  {
   "cell_type": "code",
   "execution_count": null,
   "metadata": {},
   "outputs": [],
   "source": [
    "x = -1.0\n",
    "0 <= x <= 1"
   ]
  },
  {
   "cell_type": "code",
   "execution_count": null,
   "metadata": {},
   "outputs": [],
   "source": [
    "42 == 42"
   ]
  },
  {
   "cell_type": "markdown",
   "metadata": {},
   "source": [
    "Note: floating point numbers should never be tested for equality with `==`.\n",
    "Floating point numbers are approximations of real numbers, thus they should be\n",
    "tested for approximate equality:"
   ]
  },
  {
   "cell_type": "code",
   "execution_count": null,
   "metadata": {},
   "outputs": [],
   "source": [
    ".1 == .21 - .11"
   ]
  },
  {
   "cell_type": "markdown",
   "metadata": {},
   "source": [
    "Why?"
   ]
  },
  {
   "cell_type": "code",
   "execution_count": null,
   "metadata": {},
   "outputs": [],
   "source": [
    ".21 - .11"
   ]
  },
  {
   "cell_type": "markdown",
   "metadata": {},
   "source": [
    "A good way to do this is use [`math.isclose`][math.isclose] for Python versions\n",
    "3.5 and above:"
   ]
  },
  {
   "cell_type": "code",
   "execution_count": null,
   "metadata": {},
   "outputs": [],
   "source": [
    "import math\n",
    "math.isclose(.1,.21-.11)"
   ]
  },
  {
   "cell_type": "markdown",
   "metadata": {},
   "source": [
    "[math.isclose]: https://docs.python.org/3/library/math.html#math.isclose\n",
    "\n",
    "### Boolean operations\n",
    "\n",
    "The Python boolean operations are:\n",
    "\n",
    "* `x or y`:\tif `x` is false, then `y`, else `x`\n",
    "* `x and y`:\tif `x` is false, then `x`, else `y`\n",
    "* `not x`: if `x` is false, then `True`, else `False`"
   ]
  },
  {
   "cell_type": "code",
   "execution_count": null,
   "metadata": {},
   "outputs": [],
   "source": [
    "print(True or False)\n",
    "print(False or False)"
   ]
  },
  {
   "cell_type": "code",
   "execution_count": null,
   "metadata": {},
   "outputs": [],
   "source": [
    "print(True and False)\n",
    "print(True and True)"
   ]
  },
  {
   "cell_type": "code",
   "execution_count": null,
   "metadata": {},
   "outputs": [],
   "source": [
    "print(not True)\n",
    "print(not False)"
   ]
  },
  {
   "cell_type": "markdown",
   "metadata": {},
   "source": [
    "These logical operators are typically used to combine a comparisons:"
   ]
  },
  {
   "cell_type": "code",
   "execution_count": null,
   "metadata": {},
   "outputs": [],
   "source": [
    "a = 2\n",
    "b = 3\n",
    "print(a == 2 and b == 3)\n",
    "print(a == 2 or b == 4)"
   ]
  },
  {
   "cell_type": "code",
   "execution_count": null,
   "metadata": {},
   "outputs": [],
   "source": [
    "x = 5\n",
    "# test if x is not in range (0,10)\n",
    "print(x <= 0 or x >= 10)"
   ]
  }
 ],
 "metadata": {},
 "nbformat": 4,
 "nbformat_minor": 0
}
