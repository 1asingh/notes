{
 "cells": [
  {
   "cell_type": "markdown",
   "metadata": {},
   "source": [
    "# CME 211 Lecture 3: Lists, file input and output\n",
    "\n",
    "## Reading\n",
    "\n",
    "Relevant chapters in *Learning Python* are:\n",
    "\n",
    "* Chapter 5: Numeric Types\n",
    "* Chapter 7: String Fundamentals\n",
    "* Chapter 8: Lists and Dictionaries (you can ignore Dictionaries for now)\n",
    "* Chapter 9: Tuples, Files, and Everything Else\n",
    "* Chapter 11: Assignments, Expressions, and Prints\n",
    "* Chapter 12: if Tests and Syntax Rules\n",
    "* Chapter 13: while and for Loops\n",
    "\n",
    "Chapter 4 (Introducing Python Object Types) has a summary of the object types"
   ]
  }
 ],
 "metadata": {},
 "nbformat": 4,
 "nbformat_minor": 1
}
