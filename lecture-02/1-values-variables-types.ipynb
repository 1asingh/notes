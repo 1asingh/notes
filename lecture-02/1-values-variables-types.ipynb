{
 "cells": [
  {
   "cell_type": "markdown",
   "metadata": {},
   "source": [
    "## Values, types, and variables\n",
    "\n",
    "### Values\n",
    "\n",
    "A value is the fundamental thing that a program manipulates or uses to perform\n",
    "operations.  A value is data.\n",
    "\n",
    "Here is a string value"
   ]
  },
  {
   "cell_type": "code",
   "execution_count": 1,
   "metadata": {},
   "outputs": [
    {
     "data": {
      "text/plain": [
       "'Hello, world!'"
      ]
     },
     "execution_count": 1,
     "metadata": {},
     "output_type": "execute_result"
    }
   ],
   "source": [
    "\"Hello, world!\""
   ]
  },
  {
   "cell_type": "markdown",
   "metadata": {},
   "source": [
    "Here are some numbers"
   ]
  },
  {
   "cell_type": "code",
   "execution_count": 2,
   "metadata": {},
   "outputs": [
    {
     "data": {
      "text/plain": [
       "42"
      ]
     },
     "execution_count": 2,
     "metadata": {},
     "output_type": "execute_result"
    }
   ],
   "source": [
    "42"
   ]
  },
  {
   "cell_type": "code",
   "execution_count": 3,
   "metadata": {},
   "outputs": [
    {
     "data": {
      "text/plain": [
       "12.34"
      ]
     },
     "execution_count": 3,
     "metadata": {},
     "output_type": "execute_result"
    }
   ],
   "source": [
    "12.34"
   ]
  },
  {
   "cell_type": "markdown",
   "metadata": {},
   "source": [
    "Here the only two Boolean values"
   ]
  },
  {
   "cell_type": "code",
   "execution_count": 4,
   "metadata": {},
   "outputs": [
    {
     "data": {
      "text/plain": [
       "True"
      ]
     },
     "execution_count": 4,
     "metadata": {},
     "output_type": "execute_result"
    }
   ],
   "source": [
    "True"
   ]
  },
  {
   "cell_type": "code",
   "execution_count": 5,
   "metadata": {},
   "outputs": [
    {
     "data": {
      "text/plain": [
       "False"
      ]
     },
     "execution_count": 5,
     "metadata": {},
     "output_type": "execute_result"
    }
   ],
   "source": [
    "False"
   ]
  },
  {
   "cell_type": "markdown",
   "metadata": {},
   "source": [
    "Values have types...\n",
    "\n",
    "### Types\n",
    "\n",
    "In Python there are several fundamental data types:\n",
    "\n",
    "* `bool`: with values `True` and `False`\n",
    "* `str`: for strings like `\"Hello world\"`\n",
    "* `int`: for integers like `1`, `42`, and `-5`\n",
    "* `float`: for floating point numbers like `96.8`\n",
    "\n",
    "Python has a `type()` function to determine the type of a value."
   ]
  },
  {
   "cell_type": "code",
   "execution_count": 6,
   "metadata": {},
   "outputs": [
    {
     "name": "stdout",
     "output_type": "stream",
     "text": [
      "<class 'int'>\n",
      "<class 'bool'>\n",
      "<class 'str'>\n",
      "<class 'float'>\n"
     ]
    }
   ],
   "source": [
    "print(type(55))\n",
    "print(type(False))\n",
    "print(type(\"Hi there.\"))\n",
    "print(type(-101.4))"
   ]
  },
  {
   "cell_type": "markdown",
   "metadata": {},
   "source": [
    "In many programming languages the terms `class` and `type` mean the same thing\n",
    "or are at least closely related.\n",
    "\n",
    "### Variables\n",
    "\n",
    "* One of the most basic and powerful concepts in programming is that of a\n",
    "  variable\n",
    "\n",
    "* A variable associates a name to a value:"
   ]
  },
  {
   "cell_type": "code",
   "execution_count": 7,
   "metadata": {},
   "outputs": [
    {
     "name": "stdout",
     "output_type": "stream",
     "text": [
      "42\n"
     ]
    }
   ],
   "source": [
    "message = \"Hello, world!\"\n",
    "n = 42\n",
    "e = 2.71\n",
    "# note we can print variables:\n",
    "print(n) # yields 42\n",
    "# note: everything after pound sign is a comment"
   ]
  },
  {
   "cell_type": "markdown",
   "metadata": {},
   "source": [
    "* It is almost always preferred to use variables over values:\n",
    "  * Easier to update code\n",
    "  * Easier to understand code (useful naming)\n",
    "\n",
    "* For example, What does the following code do:"
   ]
  },
  {
   "cell_type": "code",
   "execution_count": 8,
   "metadata": {},
   "outputs": [
    {
     "name": "stdout",
     "output_type": "stream",
     "text": [
      "14.700000000000001\n"
     ]
    }
   ],
   "source": [
    "print(4.2 * 3.5)"
   ]
  },
  {
   "cell_type": "markdown",
   "metadata": {},
   "source": [
    "* If the values are assigned to variables with meaningful names, we might have\n",
    "  something like:"
   ]
  },
  {
   "cell_type": "code",
   "execution_count": 9,
   "metadata": {},
   "outputs": [
    {
     "name": "stdout",
     "output_type": "stream",
     "text": [
      "14.700000000000001\n"
     ]
    }
   ],
   "source": [
    "length = 4.2\n",
    "height = 3.5\n",
    "area = length * height\n",
    "print(area)"
   ]
  },
  {
   "cell_type": "markdown",
   "metadata": {},
   "source": [
    "Now a person reading the code has a good idea of what the values represent and\n",
    "what the output of the code means.\n",
    "\n",
    "### Variable naming\n",
    "\n",
    "* The name associated with a variable is referred to as an *identifier*\n",
    "* Variables names must start with a letter or an underscore, such as\n",
    "    * `_underscore`\n",
    "    * `underscore_`\n",
    "* The remainder of your variable name may consist of letters, numbers and underscores\n",
    "    * `password1`\n",
    "    * `n00b`\n",
    "    * `un_der_scores`\n",
    "* Names are case sensitive\n",
    "    * `case_sensitive`, `CASE_SENSITIVE`, and `Case_Sensitive` are each a\n",
    "      different variable.\n",
    "\n",
    "### Variable naming style\n",
    "\n",
    "* too short: `a`, `b`, `c`\n",
    "* too long: `number_of_particles_in_target_region`\n",
    "* better: `num_target_particles`\n",
    "* CamelCase: `numTargetParticles`\n",
    "\n",
    "This is quite important for code readability.  People think about this a lot.\n",
    "See: <https://www.python.org/dev/peps/pep-0008/#naming-conventions>\n",
    "\n",
    "### Important: don't override built-in names"
   ]
  },
  {
   "cell_type": "code",
   "execution_count": 10,
   "metadata": {},
   "outputs": [
    {
     "name": "stdout",
     "output_type": "stream",
     "text": [
      "7\n"
     ]
    },
    {
     "ename": "TypeError",
     "evalue": "'str' object is not callable",
     "output_type": "error",
     "traceback": [
      "\u001b[0;31m---------------------------------------------------------------------------\u001b[0m",
      "\u001b[0;31mTypeError\u001b[0m                                 Traceback (most recent call last)",
      "\u001b[0;32m<ipython-input-10-752df62c36e6>\u001b[0m in \u001b[0;36m<module>\u001b[0;34m()\u001b[0m\n\u001b[1;32m      1\u001b[0m \u001b[0mprint\u001b[0m\u001b[0;34m(\u001b[0m\u001b[0mabs\u001b[0m\u001b[0;34m(\u001b[0m\u001b[0;34m-\u001b[0m\u001b[0;36m7\u001b[0m\u001b[0;34m)\u001b[0m\u001b[0;34m)\u001b[0m\u001b[0;34m\u001b[0m\u001b[0m\n\u001b[1;32m      2\u001b[0m \u001b[0mabs\u001b[0m \u001b[0;34m=\u001b[0m \u001b[0;34m'must do sit-ups'\u001b[0m\u001b[0;34m\u001b[0m\u001b[0m\n\u001b[0;32m----> 3\u001b[0;31m \u001b[0mprint\u001b[0m\u001b[0;34m(\u001b[0m\u001b[0mabs\u001b[0m\u001b[0;34m(\u001b[0m\u001b[0;34m-\u001b[0m\u001b[0;36m4\u001b[0m\u001b[0;34m)\u001b[0m\u001b[0;34m)\u001b[0m\u001b[0;34m\u001b[0m\u001b[0m\n\u001b[0m",
      "\u001b[0;31mTypeError\u001b[0m: 'str' object is not callable"
     ]
    }
   ],
   "source": [
    "print(abs(-7))\n",
    "abs = 'must do sit-ups'\n",
    "print(abs(-4))"
   ]
  },
  {
   "cell_type": "markdown",
   "metadata": {},
   "source": [
    "### Exercise: mortgage calculator\n",
    "\n",
    "Let's write a simple mortgage calculator to compute the monthly payment for a\n",
    "mortgage.\n",
    "\n",
    "Here are the parameters:\n",
    "\n",
    "* $L$: initial principal or value of the loan\n",
    "* $r$: yearly interest rate\n",
    "* $c = r/12$: monthly interest rate\n",
    "* $n$: term of the mortgage in terms of number of months (30 years = 360 months)\n",
    "\n",
    "The formula to compute the fixed monthly payment is:\n",
    "\n",
    "$$\n",
    "P = L \\frac{c(1+c)^n}{(1+c)^n-1}\n",
    "$$\n",
    "\n",
    "Let's code this in Python:"
   ]
  },
  {
   "cell_type": "code",
   "execution_count": 11,
   "metadata": {},
   "outputs": [
    {
     "name": "stdout",
     "output_type": "stream",
     "text": [
      "P = 477.4152954654538\n"
     ]
    }
   ],
   "source": [
    "# mortgage amount in dollars\n",
    "L = 100000\n",
    "# yearly interest rate of 4%\n",
    "r = .04\n",
    "c = r / 12\n",
    "# duration of mortgage in months\n",
    "n = 360\n",
    "P = L * (c*(1+c)**n) / ((1+c)**n-1)\n",
    "print(\"P = \" + str(P))"
   ]
  },
  {
   "cell_type": "markdown",
   "metadata": {},
   "source": [
    "Note that in Python the notation `x**y` is used to compute \"`x` raised to the\n",
    "power `y`\".\n",
    "\n",
    "### Exercise for you: reverse mortgage calculator\n",
    "\n",
    "Now, write python code to compute the value of the loan given the monthly\n",
    "payment.  The formula is:\n",
    "\n",
    "$$\n",
    "L = P \\frac{(1+c)^n-1}{c(1+c)^n}\n",
    "$$"
   ]
  }
 ],
 "metadata": {},
 "nbformat": 4,
 "nbformat_minor": 1
}
