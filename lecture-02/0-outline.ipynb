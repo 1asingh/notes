{
 "cells": [
  {
   "cell_type": "markdown",
   "metadata": {},
   "source": [
    "# CME 211 Lecture 2: Introduction to Python\n",
    "\n",
    "* Python is a high level language that runs in an *interpreter*\n",
    "* An *interpreter* is a program (see `$ python`) that executes statements from a\n",
    "  high level language\n",
    "* Examples of high level interpreted languages: Python, R, Matlab, Perl,\n",
    "  JavaScript\n",
    "* The most widely used Python interpreter is called **CPython**.  It is written\n",
    "  in C.  There are others, for example **Jython** and **IronPython**.  It is\n",
    "  fairly easy (with experience) to access code written in C from **CPython**.\n",
    "* Python now has a long history.  Version 1.0 was released in 1994.\n",
    "* This class will use Python 3.  However, we will discuss important differences\n",
    "  from Python 2 as we go along.\n",
    "\n",
    "## Getting started\n",
    "\n",
    "To get started, let's log into `corn.stanford.edu`, start the Python 3\n",
    "interpreter, and execute some Python commands.  Please review the Lecture 0\n",
    "notes if any of the following is unfamiliar.\n",
    "\n",
    "1. Use SSH to login with `$ ssh [username]@corn.stanford.edu`\n",
    "2. Locate the Python 3 interpreter with `$ which python3`\n",
    "3. Run the Python 3 interpreter with `$ python3`\n",
    "4. Execute the python statement `>>> print(\"Hello World!\")`\n",
    "\n",
    "### Interpreter\n",
    "\n",
    "* An *interpreter* is a program that reads and executes commands\n",
    "* It is also sometimes called a REPL or read-evaluate-print-loop\n",
    "* One way to interact with Python is to use the interpreter\n",
    "* This is useful for interactive work, learning, and simple testing\n",
    "* When you see a `$` in code blocks, it typically indicates a shell command.  For\n",
    "  example:"
   ]
  },
  {
   "cell_type": "markdown",
   "metadata": {},
   "source": [
    "```\n",
    "$ ls\n",
    "Downloads  bin\t    config  gurobi.log\tprojects  tmp\n",
    "WWW\t   cme213b  cs107   jobs\ttest.txt  work\n",
    "$\n",
    "```\n"
   ]
  },
  {
   "cell_type": "markdown",
   "metadata": {},
   "source": [
    "* When you see a `>>>` in code blocks, it typically indicates a command for the\n",
    "  Python interpreter\n",
    "* The basic Python interpreter is good for very simple computations or tests.\n",
    "  [IPython][ipython] provides a lot more functionality (like tab completion and\n",
    "  syntax highlighting), try `$ ipython3` at the command line\n",
    "\n",
    "[ipython]: https://ipython.org/\n",
    "\n",
    "### Python as a calculator\n",
    "\n",
    "In the Python 3 interpreter:"
   ]
  },
  {
   "cell_type": "markdown",
   "metadata": {},
   "source": [
    "```\n",
    ">>> 4+7\n",
    "11\n",
    ">>> 55*2\n",
    "110\n",
    ">>> 9-1.4\n",
    "7.6\n",
    ">>> 5/3\n",
    "1.6666666666666667\n",
    ">>> 5//3\n",
    "1\n",
    ">>> -5//3\n",
    "-2\n",
    ">>> 5.0/3\n",
    "1.6666666666666667\n",
    ">>> 5.0//3\n",
    "1.0\n",
    ">>> 5 % 3\n",
    "2\n",
    "```\n"
   ]
  },
  {
   "cell_type": "markdown",
   "metadata": {},
   "source": [
    "### Integers and floating point\n",
    "\n",
    "In a later lecture, we will discuss in detail the computer representation of\n",
    "integers and floating point numbers.  For now:\n",
    "\n",
    "* It is best to think of integers as being represented exactly over a fixed\n",
    "  range.  (This is not really true in current versions of Python, but will be\n",
    "  true in C++)\n",
    "\n",
    "* Floating point numbers are *approximations* of real numbers over a limited\n",
    "  range.\n",
    "\n",
    "* Floating point number range is not continuous.  There are gaps between\n",
    "  floating point numbers that depend on the scale.  The gap between `1.0` and\n",
    "  the next representable floating point number is smaller than the gap between\n",
    "  `1.0e50` and the next representable floating point number.\n",
    "\n",
    "* These things matter and bad numerical computing has resulted in a number of\n",
    "  disasters: https://www.ima.umn.edu/~arnold/disasters/\n",
    "\n",
    "* Division between two integers with `/` returns a floating point number\n",
    "\n",
    "* `//` performs floor division (rounds down)\n",
    "\n",
    "* The `%` operator is called the *modulus* operator and returns the remainder\n",
    "  for integer division\n",
    "\n",
    "### Exiting the interpreter\n",
    "\n",
    "* use `ctrl-d`\n",
    "* use `exit()`"
   ]
  },
  {
   "cell_type": "markdown",
   "metadata": {},
   "source": [
    "```\n",
    "$ python3\n",
    "Python 3.5.2 (default, Jun 29 2016, 13:43:58)\n",
    "[GCC 4.2.1 Compatible Apple LLVM 7.3.0 (clang-703.0.31)] on darwin\n",
    "Type \"help\", \"copyright\", \"credits\" or \"license\" for more information.\n",
    ">>> exit\n",
    "Use exit() or Ctrl-D (i.e. EOF) to exit\n",
    ">>> exit()\n",
    "```\n"
   ]
  },
  {
   "cell_type": "markdown",
   "metadata": {},
   "source": [
    "### Jupyter notebook\n",
    "\n",
    "Jupyter Notebooks are great for teaching and interactive work.  From the\n",
    "[jupyter.org][jupyter] website:\n",
    "\n",
    "> The Jupyter Notebook is a web application that allows you to create and share\n",
    "> documents that contain live code, equations, visualizations and explanatory\n",
    "> text. Uses include: data cleaning and transformation, numerical simulation,\n",
    "> statistical modeling, machine learning and much more.\n",
    "\n",
    "[jupyter]: http://jupyter.org/\n",
    "\n",
    "In Jupyter Notebook, code is typed into code blocks:"
   ]
  },
  {
   "cell_type": "code",
   "execution_count": null,
   "metadata": {},
   "outputs": [],
   "source": [
    "print(\"hello from a code block!\")"
   ]
  },
  {
   "cell_type": "markdown",
   "metadata": {},
   "source": [
    "Code blocks can be re-executed with ease!\n",
    "\n",
    "You can test Jupyter Notebook in your browser via <https://try.jupyter.org/>.\n",
    "Note that any work you do here will not be saved.\n",
    "\n",
    "If you want to install Jupyter Notebook on your computer, I recommend [Anaconda\n",
    "Python][anaconda].  Make sure to install the Python 3.5 version.\n",
    "\n",
    "[anaconda]: https://www.continuum.io/downloads\n",
    "\n",
    "CME211 Notes:\n",
    "* We do not formally support Jupyter Notebook.  I show it to the class, because\n",
    "  it is a very useful tool.  You are responsible for figuring out how to install\n",
    "  and run Jupyter Notebook.  There are plenty of good tutorials online.\n",
    "* The teaching staff is not responsible for helping you set up Jupyter Notebook\n",
    "  on your computer.  Python 3 on `corn.stanford.edu` is the supported computing\n",
    "  environment.\n",
    "* All Python work for CME211 must be submitted as Python scripts (`.py` files)\n",
    "  that can be executed via the command line.  We will not accept or grade any\n",
    "  work submitted as a notebook (`.ipynb` format).\n",
    "* The notes for CME211 are written in [Markdown format][markdown] and [converted\n",
    "  to Jupyter notebooks][notedown] for lectures and screencasts.\n",
    "  [`nbconvert`][nbconvert] is used to create PDFs.\n",
    "\n",
    "[markdown]: http://commonmark.org/\n",
    "[notedown]: https://github.com/aaren/notedown\n",
    "[nbconvert]: http://nbconvert.readthedocs.io/en/latest/\n",
    "\n",
    "### Jupyter Notebook can render math\n",
    "\n",
    "Here is a simple indefinite integral:\n",
    "\n",
    "$$\n",
    "\\int x\\ dx = \\frac{1}{2} x^2 + C\n",
    "$$\n",
    "\n",
    "Here is an inline equation $e^{ix} = \\cos x + i \\sin x$ for any real number $x$.\n",
    "\n",
    "### Looking ahead with Jupyter Notebooks\n",
    "\n",
    "Jupyter notebook is a very useful tool for scientific computing.  If you have a\n",
    "background with Matlab, the following may help you get started working with\n",
    "Python and NumPy.\n",
    "\n",
    "Start by importing modules:"
   ]
  },
  {
   "cell_type": "code",
   "execution_count": null,
   "metadata": {},
   "outputs": [],
   "source": [
    "# for 2d plotting\n",
    "import matplotlib.pyplot as plt\n",
    "# for numerical computing\n",
    "import numpy as np"
   ]
  },
  {
   "cell_type": "markdown",
   "metadata": {},
   "source": [
    "Configure plotting for notebook:"
   ]
  },
  {
   "cell_type": "code",
   "execution_count": null,
   "metadata": {},
   "outputs": [],
   "source": [
    "# tell matplotlib to use the notebook for figures\n",
    "%matplotlib notebook\n",
    "# tell matplotlib to use svg (they look better than png)\n",
    "%config InlineBackend.figure_format = 'svg'"
   ]
  },
  {
   "cell_type": "markdown",
   "metadata": {},
   "source": [
    "Note: in Jupyter notebook, statements that start with `%` are known as [magic\n",
    "commands][ipy-magic].\n",
    "\n",
    "[ipy-magic]: http://ipython.readthedocs.io/en/stable/interactive/magics.html\n",
    "\n",
    "A simple plot of 100 random sampled data points:"
   ]
  },
  {
   "cell_type": "code",
   "execution_count": null,
   "metadata": {},
   "outputs": [],
   "source": [
    "plt.plot(np.random.rand(100))"
   ]
  },
  {
   "cell_type": "markdown",
   "metadata": {},
   "source": [
    "Have a look at the [\"NumPy for MATLAB Users\"][numpy-matlab] reference.  Note\n",
    "that you will have to prefix NumPy function calls from the reference with `np.`\n",
    "based on the import statements above.\n",
    "\n",
    "[numpy-matlab]: http://mathesaurus.sourceforge.net/matlab-numpy.html\n",
    "\n",
    "It may also be a good idea to skim the following to see what you can do:\n",
    "* [NumPy reference](http://docs.scipy.org/doc/numpy/reference/)\n",
    "* [SciPy reference](http://docs.scipy.org/doc/scipy/reference/)\n",
    "\n",
    "### Python scripts\n",
    "\n",
    "* A more convenient way to interact with Python is to write a script\n",
    "* A Python script is a text file containing Python code\n",
    "* Python script file names typically end in `.py`\n",
    "\n",
    "#### Let's create our first script\n",
    "\n",
    "* Log into `corn.stanford.edu`\n",
    "\n",
    "* Create a text file named `firstscript.py` with your favorite text editor\n",
    "  (`$ nano firstscript.py` is a good choice)\n",
    "\n",
    "* Insert the following Python code into `firstscript.py`:"
   ]
  },
  {
   "cell_type": "code",
   "execution_count": null,
   "metadata": {},
   "outputs": [],
   "source": [
    "print(\"Hello from Python.\")\n",
    "print(\"I am your first script!\")"
   ]
  },
  {
   "cell_type": "markdown",
   "metadata": {},
   "source": [
    "* Execute the command `$ python3 fisrtscript.py`\n",
    "\n",
    "Note the use of the `$ python3` command.  On many systems the command `$ python`\n",
    "will start the Python 2 interpreter.  For this simple example, the behavior will\n",
    "be the same.  In general, this is not the case Python versions 2 and 3 have\n",
    "[many differences][py3-diff].\n",
    "\n",
    "[py3-diff]: https://docs.python.org/3/whatsnew/3.0.html\n",
    "\n",
    "#### Why scripts?\n",
    "\n",
    "Let's write a simple Python script to compute the first `n` numbers in the\n",
    "Fibonacci series.  As a reminder, each number in the Fibonacci series is the sum\n",
    "of the two previous numbers.  Let `F(i)` be the `i`th number in the series.  We\n",
    "define `F(0) = 0` and `F(1) = 1`, then `F(i) = F(i-1) + F(i-2)` for `i >= 2`.\n",
    "Numbers `F(0)` to `F(n)` can be computed with the following Python code:"
   ]
  },
  {
   "cell_type": "code",
   "execution_count": null,
   "metadata": {},
   "outputs": [],
   "source": [
    "n = 10\n",
    "\n",
    "if n >= 0:\n",
    "    fn2 = 0\n",
    "    print(fn2,end=',')\n",
    "if n >= 1:\n",
    "    fn1 = 1\n",
    "    print(fn1,end=',')\n",
    "for i in range(2,n+1):\n",
    "    fn = fn1 + fn2\n",
    "    print(fn,end=',')\n",
    "    fn2 = fn1\n",
    "    fn1 = fn\n",
    "print()"
   ]
  },
  {
   "cell_type": "markdown",
   "metadata": {},
   "source": [
    "Note, the above code is a preview of Python syntax that we will review in this\n",
    "course.  Now, paste this code into a file named `fib.py`.  Execute the file with\n",
    "the command `$ python3 fib.py`.  The result should like:"
   ]
  },
  {
   "cell_type": "markdown",
   "metadata": {},
   "source": [
    "```\n",
    "$ python3 fib.py\n",
    "0,1,1,2,3,5,8,13,21,34,55,\n",
    "```\n"
   ]
  },
  {
   "cell_type": "markdown",
   "metadata": {},
   "source": [
    "To see the utility of scripts, we need to add a bit more code.  Change the first\n",
    "line of `fib.py` to be:"
   ]
  },
  {
   "cell_type": "markdown",
   "metadata": {},
   "source": [
    "```\n",
    "import sys\n",
    "n = int(sys.argv[1])\n",
    "```\n"
   ]
  },
  {
   "cell_type": "markdown",
   "metadata": {},
   "source": [
    "This will instruct the script to obtain the value of `n` from the command line:"
   ]
  },
  {
   "cell_type": "markdown",
   "metadata": {},
   "source": [
    "```\n",
    "$ python3 fib.py 0\n",
    "0,\n",
    "\n",
    "$ python3 fib.py 5\n",
    "0,1,1,2,3,5,\n",
    "\n",
    "$ python3 fib.py 21\n",
    "0,1,1,2,3,5,8,13,21,34,55,89,144,233,377,610,987,1597,2584,4181,6765,10946,\n",
    "```\n"
   ]
  },
  {
   "cell_type": "markdown",
   "metadata": {},
   "source": [
    "We have increased the utility of our program by making it simple to run from the\n",
    "command line with different input arguments.  CME211 homeworks will work like\n",
    "this.\n",
    "\n",
    "### Python modules\n",
    "\n",
    "If you are familiar with MATLAB, you may come to Python and be confused by:"
   ]
  },
  {
   "cell_type": "code",
   "execution_count": null,
   "metadata": {},
   "outputs": [],
   "source": [
    "sqrt(3)"
   ]
  },
  {
   "cell_type": "markdown",
   "metadata": {},
   "source": [
    "The Python language does not have a built in `sqrt` function.  `sqrt` exists in\n",
    "the Python `math` module:"
   ]
  },
  {
   "cell_type": "code",
   "execution_count": null,
   "metadata": {},
   "outputs": [],
   "source": [
    "import math\n",
    "math.sqrt(9)"
   ]
  },
  {
   "cell_type": "markdown",
   "metadata": {},
   "source": [
    "About Python modules:\n",
    "\n",
    "* A module is a collection of Python resources (functions, variables, objects,\n",
    "  classes) that can be easily loaded into Python via `import` statements\n",
    "\n",
    "* Modules allow for easy code reuse and organization\n",
    "\n",
    "* Modules allow the programmer to keep various functionality in different\n",
    "  namespaces.\n",
    "\n",
    "* There are a large number of modules in the Python Standard Library:\n",
    "  <https://docs.python.org/3/library/index.html>\n",
    "\n",
    "* It is often useful to explore the Python documentation in the interpreter.\n",
    "  See `>>> help(math)` and `>>> help(math.sqrt)` from the interpreter or in a\n",
    "  notebook code block.\n",
    "\n",
    "### Printing\n",
    "\n",
    "Jupyter Notebook will echo the output of the last (non-assignment) statement in\n",
    "a code block:"
   ]
  },
  {
   "cell_type": "code",
   "execution_count": null,
   "metadata": {},
   "outputs": [],
   "source": [
    "1 + 1\n",
    "5 + 5"
   ]
  },
  {
   "cell_type": "code",
   "execution_count": null,
   "metadata": {},
   "outputs": [],
   "source": [
    "myvar = 101\n",
    "# no output"
   ]
  },
  {
   "cell_type": "markdown",
   "metadata": {},
   "source": [
    "You can use the `print()` function:"
   ]
  },
  {
   "cell_type": "code",
   "execution_count": null,
   "metadata": {},
   "outputs": [],
   "source": [
    "a = 99\n",
    "print(a)"
   ]
  },
  {
   "cell_type": "markdown",
   "metadata": {},
   "source": [
    "By default, `print()` adds a new line character at the end for printing."
   ]
  },
  {
   "cell_type": "code",
   "execution_count": null,
   "metadata": {},
   "outputs": [],
   "source": [
    "print(\"hi\")\n",
    "print(\"cme211\")"
   ]
  },
  {
   "cell_type": "markdown",
   "metadata": {},
   "source": [
    "This behavior can be changed by setting the `end` keyword parameter in the print\n",
    "function."
   ]
  },
  {
   "cell_type": "code",
   "execution_count": null,
   "metadata": {},
   "outputs": [],
   "source": [
    "print(\"hi\", end=' ') # now print inserts a space instead of a newline ('\\n')\n",
    "print(\"cme211\")"
   ]
  },
  {
   "cell_type": "markdown",
   "metadata": {},
   "source": [
    "The `print()` function can print several strings at once on the same line:"
   ]
  },
  {
   "cell_type": "code",
   "execution_count": null,
   "metadata": {},
   "outputs": [],
   "source": [
    "print(\"apple\", \"bananna\", \"orange\")"
   ]
  },
  {
   "cell_type": "markdown",
   "metadata": {},
   "source": [
    "The default separator is a space.  This can be changed by setting the `sep`\n",
    "keyword parameter:"
   ]
  },
  {
   "cell_type": "code",
   "execution_count": null,
   "metadata": {},
   "outputs": [],
   "source": [
    "print(\"apple\", \"bananna\", \"orange\", sep=', ')"
   ]
  },
  {
   "cell_type": "markdown",
   "metadata": {},
   "source": [
    "Python strings can be \"formatted\" with the `format` method:"
   ]
  },
  {
   "cell_type": "code",
   "execution_count": null,
   "metadata": {},
   "outputs": [],
   "source": [
    "r = 1\n",
    "a = 2*math.pi\n",
    "print(\"the area of a circle of radius {} is {}.\".format(r,a))"
   ]
  },
  {
   "cell_type": "markdown",
   "metadata": {},
   "source": [
    "The curly braces (`{}`) get replaced by the arguments to `format()` in order."
   ]
  }
 ],
 "metadata": {},
 "nbformat": 4,
 "nbformat_minor": 0
}
