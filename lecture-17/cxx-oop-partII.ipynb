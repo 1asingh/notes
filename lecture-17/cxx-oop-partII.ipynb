{
 "cells": [
  {
   "cell_type": "markdown",
   "metadata": {},
   "source": [
    "# OOP Part II: C++\n",
    "\n",
    "## Topics\n",
    "1. Recap: Encapsulation\n",
    "1. Recap: Abstraction\n",
    "1. Inheritance\n",
    "    * virtual methods\n",
    "1. Polymorphism\n",
    "1. Abstract classes\n",
    "    * pure virtual methods\n",
    "1. Composition\n",
    "\n",
    "## 1. Recap: Encapsulation\n",
    "* Encapsulation hides the details of an object's state from unauthorized parties.\n",
    "* Only the object's instance and its methods have access to these values.\n",
    "* Achieved in C++ by maintaining private member variables"
   ]
  },
  {
   "cell_type": "code",
   "execution_count": null,
   "metadata": {},
   "outputs": [],
   "source": [
    "#include <iostream>"
   ]
  },
  {
   "cell_type": "code",
   "execution_count": null,
   "metadata": {},
   "outputs": [],
   "source": [
    "class Student_Encapsulation_Example {\n",
    "    // By default, these variables are private\n",
    "    int id_;\n",
    "    double gpa_;\n",
    "    std::vector<std::string> courses_;\n",
    "  \n",
    "  public:\n",
    "    Student_Encapsulation_Example(int id){\n",
    "        this->id_ = id;\n",
    "    };\n",
    "}"
   ]
  },
  {
   "cell_type": "code",
   "execution_count": null,
   "metadata": {},
   "outputs": [],
   "source": [
    "Student_Encapsulation_Example s = Student_Encapsulation_Example(25);"
   ]
  },
  {
   "cell_type": "code",
   "execution_count": null,
   "metadata": {},
   "outputs": [],
   "source": [
    "// what will happen when I run this code?\n",
    "s.id_"
   ]
  },
  {
   "cell_type": "markdown",
   "metadata": {},
   "source": [
    "#### Aside: Initializer-list construction\n",
    "\n",
    "In the above example, we used the syntax \n",
    "\n",
    "```\n",
    "Student_Encapsulation_Example(int id){\n",
    "    this->id_ = id;\n",
    "};\n",
    "```\n",
    "\n",
    "for our constructor.  In C++11, the initializer list syntax was introduced for constructors, so we could have written:\n",
    "\n",
    "```\n",
    "Student_Encapsulation_Example(int id): id_(id){};\n",
    "```\n",
    "\n",
    "There are various benefits to using this syntax which we will see later in this lecture. We will also use it for the rest of the examples."
   ]
  },
  {
   "cell_type": "code",
   "execution_count": null,
   "metadata": {},
   "outputs": [],
   "source": [
    "class Student_Encapsulation_Example2 {\n",
    "    // By default, these variables are private\n",
    "    int id_;\n",
    "    double gpa_;\n",
    "    std::vector<std::string> courses_;\n",
    "  \n",
    "  public:\n",
    "    Student_Encapsulation_Example2(int id): id_(id){};\n",
    "    \n",
    "    //This is the default constructor, which takes no arguments\n",
    "    //Members are instantiated to their default values\n",
    "    Student_Encapsulation_Example2(){};\n",
    "    \n",
    "    int get_id(){\n",
    "        return id_;\n",
    "    }\n",
    "}"
   ]
  },
  {
   "cell_type": "code",
   "execution_count": null,
   "metadata": {},
   "outputs": [],
   "source": [
    "Student_Encapsulation_Example2 se = Student_Encapsulation_Example2(25);"
   ]
  },
  {
   "cell_type": "code",
   "execution_count": null,
   "metadata": {},
   "outputs": [],
   "source": [
    "se.get_id()"
   ]
  },
  {
   "cell_type": "code",
   "execution_count": null,
   "metadata": {},
   "outputs": [],
   "source": [
    "Student_Encapsulation_Example2 default_se =  Student_Encapsulation_Example2();"
   ]
  },
  {
   "cell_type": "code",
   "execution_count": null,
   "metadata": {},
   "outputs": [],
   "source": [
    "// What will this return?\n",
    "default_se.get_id()"
   ]
  },
  {
   "cell_type": "markdown",
   "metadata": {},
   "source": [
    "### 2. Recap: Abstraction\n",
    "Abstraction is the principle of hiding unecessary details from other objects (Closely related to encapsulation).  Other objects don't need to know the details about the inside of another object's class and *how* its methods work.  All that is required is knowledge of what the methods do, and how to interact with them.\n",
    "\n",
    "To illustrate this, we will create two new examples of a Student class, each with the following methods:\n",
    "\n",
    "* A constructor that takes an integer id as input\n",
    "* An `add_course()` method that takes a string and gradepoint as input, and returns nothing\n",
    "* A `print_course_roster()` method that prints out the current roster for the student, and returns nothing\n",
    "* A `get_gpa()` method that returns the student's current gpa\n"
   ]
  },
  {
   "cell_type": "code",
   "execution_count": null,
   "metadata": {},
   "outputs": [],
   "source": [
    "class Student_Abstraction_Example1 {\n",
    "    int id_;\n",
    "    double gpa_;\n",
    "    std::vector<std::string> courses_;\n",
    "    std::vector<double> course_grades_;\n",
    "  \n",
    "  public:\n",
    "    Student_Abstraction_Example1(int id):id_(id){};\n",
    "    \n",
    "    void add_course(std::string name, double gradepoint){\n",
    "        courses_.push_back(name);\n",
    "        course_grades_.push_back(gradepoint);\n",
    "        double sumgradepoints = std::accumulate(\n",
    "            course_grades_.begin(), \n",
    "            course_grades_.end(), \n",
    "            0.0);\n",
    "        gpa_ = sumgradepoints / (double)this->course_grades_.size();\n",
    "    };\n",
    "    \n",
    "    void print_course_roster(){\n",
    "        for (int i = 0; i < courses_.size(); i++){\n",
    "            std::cout << courses_[i] << std::endl;\n",
    "        }\n",
    "    }\n",
    "    \n",
    "    double get_gpa(){\n",
    "        return gpa_;\n",
    "    }\n",
    "}"
   ]
  },
  {
   "cell_type": "code",
   "execution_count": null,
   "metadata": {},
   "outputs": [],
   "source": [
    "struct Student_Course{\n",
    "    std::string course_;\n",
    "    double course_grade_;\n",
    "    Student_Course(std::string course,\n",
    "                   double grade):\n",
    "        course_(course), course_grade_(grade){};\n",
    "};\n",
    "\n",
    "class Student_Abstraction_Example2 {\n",
    "    int id_;\n",
    "    double gpa_;\n",
    "    std::vector<Student_Course> courses_;\n",
    "  \n",
    "  public:\n",
    "    Student_Abstraction_Example2(int id):id_(id){};\n",
    "    \n",
    "    void add_course(std::string name, double gradepoint){\n",
    "        courses_.emplace_back(name,gradepoint);\n",
    "        double sumgradepoints = \n",
    "            std::accumulate(courses_.begin(),\n",
    "                            courses_.end(),\n",
    "                            0.0,\n",
    "                            [](double curr_sum, Student_Course course){\n",
    "                                return curr_sum + course.course_grade_;}\n",
    "                           );\n",
    "        gpa_ = sumgradepoints / (double)courses_.size();\n",
    "    }\n",
    "    \n",
    "    void print_course_roster(){\n",
    "        for (int i = 0; i < courses_.size(); i++){\n",
    "            std::cout << courses_[i].course_ << std::endl;\n",
    "        }\n",
    "    }\n",
    "    \n",
    "    double get_gpa(){\n",
    "        return gpa_;\n",
    "    }\n",
    "    \n",
    "}"
   ]
  },
  {
   "cell_type": "code",
   "execution_count": null,
   "metadata": {},
   "outputs": [],
   "source": [
    "Student_Abstraction_Example1 s1 = Student_Abstraction_Example1(3);\n",
    "s1.add_course(\"CME 211\", 3.4);\n",
    "s1.print_course_roster();\n",
    "\n",
    "Student_Abstraction_Example2 s2 = Student_Abstraction_Example2(3);\n",
    "s2.add_course(\"CME 211\", 3.4);\n",
    "s2.print_course_roster();"
   ]
  },
  {
   "cell_type": "code",
   "execution_count": null,
   "metadata": {},
   "outputs": [],
   "source": [
    "s1.get_gpa()"
   ]
  },
  {
   "cell_type": "code",
   "execution_count": null,
   "metadata": {},
   "outputs": [],
   "source": [
    "s2.get_gpa()"
   ]
  },
  {
   "cell_type": "markdown",
   "metadata": {},
   "source": [
    "To a user of this code, the two Student classes function identically, though their internal implementations of the course roster are different.\n",
    "\n",
    "How would a C++ developer communicate to users the functionality of the Student class?\n",
    "One way is through the header file for the student class, which would contain:\n"
   ]
  },
  {
   "cell_type": "markdown",
   "metadata": {},
   "source": [
    "*file: Student.hpp*\n",
    "```\n",
    "class Student {\n",
    "    Student(int id);\n",
    "    void add_course(std::string name, double gradepoint);\n",
    "    void print_course_roster();\n",
    "    double get_gpa();\n",
    "}\n",
    "```"
   ]
  },
  {
   "cell_type": "markdown",
   "metadata": {},
   "source": [
    "*file: Student.cpp*\n",
    "\n",
    "```\n",
    "#include <vector>\n",
    "#include <iostream>\n",
    "\n",
    "#include \"Student.hpp\"\n",
    "\n",
    "struct Student_Course{\n",
    "    std::string course_;\n",
    "    double course_grade_;\n",
    "    Student_Course(std::string course, double grade):course_(course), course_grade_(grade){};\n",
    "};\n",
    "\n",
    "class Student{\n",
    "    int id_;\n",
    "    double gpa_;\n",
    "    std::vector<Student_Course> courses_;\n",
    "  \n",
    "  public:\n",
    "    Student(int id):id_(id){};\n",
    "    \n",
    "    void add_course(std::string name, double gradepoint){\n",
    "        courses_.emplace_back(name,gradepoint);\n",
    "        double sumgradepoints = std::accumulate(courses_.begin(),\n",
    "                                               courses_.end(),\n",
    "                                               0.0,\n",
    "                                               [](double curr_sum, Student_Course course){\n",
    "                                                   return curr_sum + course.course_grade_;}\n",
    "                                              );\n",
    "        gpa_ = sumgradepoints / (double)courses_.size();\n",
    "    }\n",
    "    \n",
    "    void print_course_roster(){\n",
    "        for (int i = 0; i < courses_.size(); i++){\n",
    "            std::cout << courses_[i].course_ << std::endl;\n",
    "        }\n",
    "    }\n",
    "    \n",
    "    double get_gpa(){\n",
    "        return gpa_;\n",
    "    }\n",
    "    \n",
    "}\n",
    "```"
   ]
  },
  {
   "cell_type": "markdown",
   "metadata": {},
   "source": [
    "What if instead of just changing the implementation details of our Student class, we actually wanted to create\n",
    "different kinds of Students? \n",
    "\n",
    "For example: Suppose that Students could either be SPCD or live on campus, and we wanted the Student object to have different functionality based on this distinction.\n",
    "\n",
    "This leads us to the principle of **Inheritance**.\n",
    "\n",
    "### 3. Inheritance"
   ]
  },
  {
   "cell_type": "code",
   "execution_count": null,
   "metadata": {},
   "outputs": [],
   "source": [
    "#include <iostream>"
   ]
  },
  {
   "cell_type": "code",
   "execution_count": null,
   "metadata": {},
   "outputs": [],
   "source": [
    "class Student {\n",
    "    int id_;\n",
    "    double gpa_;\n",
    "    std::vector<std::string> courses_;\n",
    "    std::vector<double> course_grades_;\n",
    "  \n",
    "  public:\n",
    "    Student(int id):id_(id){};\n",
    "    \n",
    "    void add_course(std::string name, double gradepoint){\n",
    "        courses_.push_back(name);\n",
    "        course_grades_.push_back(gradepoint);\n",
    "        double sumgradepoints = std::accumulate(\n",
    "            course_grades_.begin(), \n",
    "            course_grades_.end(), \n",
    "            0.0);\n",
    "        gpa_ = sumgradepoints / (double)course_grades_.size();\n",
    "    };\n",
    "    \n",
    "    const void print_course_roster(){\n",
    "        for (int i = 0; i < courses_.size(); i++){\n",
    "            std::cout << courses_[i] << std::endl;\n",
    "        }\n",
    "    }\n",
    "    \n",
    "    const double get_gpa(){\n",
    "        return gpa_;\n",
    "    }\n",
    "    \n",
    "    const double get_id(){\n",
    "        return id_;\n",
    "    }\n",
    "    \n",
    "    virtual std::string get_dorm(){\n",
    "        return \"No dorm assigned\";\n",
    "    }\n",
    "    \n",
    "}"
   ]
  },
  {
   "cell_type": "code",
   "execution_count": null,
   "metadata": {},
   "outputs": [],
   "source": [
    "class SCPD_Student : public Student {\n",
    "    std::string location_;\n",
    "  public:\n",
    "    // Note that the constructor for Student \n",
    "    // is explicitly called with the parameter (\"id\")\n",
    "    // To pass a parameter to the parent, \n",
    "    // we must use the initializer list construction\n",
    "    // If we don't explicitly call the parent constructor,\n",
    "    // then the default parent constructor is called\n",
    "    SCPD_Student(int id, std::string location) : Student(id), location_(location) {};\n",
    "    \n",
    "    const std::string get_location(){\n",
    "        return location_;\n",
    "    }\n",
    "\n",
    "}"
   ]
  },
  {
   "cell_type": "code",
   "execution_count": null,
   "metadata": {},
   "outputs": [],
   "source": [
    "class Local_Student : public Student {\n",
    "    std::string dorm_;\n",
    "  public:\n",
    "    Local_Student(int id, std::string dorm) : Student(id), dorm_(dorm) {};\n",
    "    \n",
    "    std::string get_dorm(){\n",
    "        return dorm_;\n",
    "    }\n",
    "    \n",
    "}"
   ]
  },
  {
   "cell_type": "code",
   "execution_count": null,
   "metadata": {},
   "outputs": [],
   "source": [
    "SCPD_Student remote_student = SCPD_Student(34, \"Minneapolis\");\n",
    "Local_Student local = Local_Student(25, \"Lyman\");"
   ]
  },
  {
   "cell_type": "code",
   "execution_count": null,
   "metadata": {},
   "outputs": [],
   "source": [
    "// Parent methods are inherited by children automatically\n",
    "local.get_gpa()"
   ]
  },
  {
   "cell_type": "code",
   "execution_count": null,
   "metadata": {},
   "outputs": [],
   "source": [
    "// Methods defined in the child class are also accessible\n",
    "remote_student.get_location()"
   ]
  },
  {
   "cell_type": "code",
   "execution_count": null,
   "metadata": {
    "scrolled": true
   },
   "outputs": [],
   "source": [
    "// What about methods defined in a sibling class?\n",
    "local.get_location()"
   ]
  },
  {
   "cell_type": "markdown",
   "metadata": {},
   "source": [
    "#### 3.1 Virtual methods\n",
    "Notice that we used the **virtual** keyword in the Student class when defining our method `get_dorm()`\n",
    "\n",
    "```\n",
    "    virtual std::string get_dorm(){\n",
    "        return \"No dorm assigned\";\n",
    "    }\n",
    "\n",
    "```\n",
    "\n",
    "This tells the compiler that the function can be overridden in a derived class, though it doesn't have to be."
   ]
  },
  {
   "cell_type": "code",
   "execution_count": null,
   "metadata": {
    "scrolled": true
   },
   "outputs": [],
   "source": [
    "local.get_dorm()"
   ]
  },
  {
   "cell_type": "code",
   "execution_count": null,
   "metadata": {
    "scrolled": true
   },
   "outputs": [],
   "source": [
    "remote_student.get_dorm()"
   ]
  },
  {
   "cell_type": "markdown",
   "metadata": {},
   "source": [
    "Let's take a closer look at the syntax that we used to establish the inheritance relationship:\n",
    "`class Local_Student : public Student`\n",
    "\n",
    "Note that we used the **public** keyword.  This meant that all of the `public` and `protected` members and methods of the Student class were also public in the Local_Student class, which is why we were able to call `get_gpa()`.\n",
    "\n",
    "**private** inheritance is also an option, though less common.\n",
    "\n",
    "What is so useful about establishing inheritance relationships this way? **Polymorphism**"
   ]
  },
  {
   "cell_type": "markdown",
   "metadata": {},
   "source": [
    "### 4. Polymorphism\n",
    "The concept that a different version of a method can be called based on the inheritance structure of the classes.\n",
    "This allows us to interact with \"Student\" objects whose underlying functionality is dictated by their actual type."
   ]
  },
  {
   "cell_type": "code",
   "execution_count": null,
   "metadata": {},
   "outputs": [],
   "source": [
    "std::vector<Student*> students_;"
   ]
  },
  {
   "cell_type": "code",
   "execution_count": null,
   "metadata": {},
   "outputs": [],
   "source": [
    "students_.push_back(&local);"
   ]
  },
  {
   "cell_type": "code",
   "execution_count": null,
   "metadata": {},
   "outputs": [],
   "source": [
    "students_.push_back(&remote_student);"
   ]
  },
  {
   "cell_type": "code",
   "execution_count": null,
   "metadata": {},
   "outputs": [],
   "source": [
    "for (int i = 0; i < students_.size(); i++){\n",
    "    std::cout << \"Student \" << students_[i]->get_id() << \": \" \n",
    "        << students_[i]->get_dorm() << std::endl;\n",
    "}"
   ]
  },
  {
   "cell_type": "markdown",
   "metadata": {},
   "source": [
    "Note that if we hadn't included the `virtual` keyword, then the base class's version of `get_dorm()` would have been called, even for the local student.\n",
    "\n",
    "The `virtual` keyword signals to the compiler that we don't want **static linkage** for this function (function call determined before the program is executed).\n",
    "\n",
    "Intead, we want the selection of which version of `get_dorm()` to call to be dictated by the kind of object for which it is called - this is called **dynamic linkage** or late binding.\n"
   ]
  },
  {
   "cell_type": "markdown",
   "metadata": {},
   "source": [
    "### 5. Abstract Classes\n",
    "Based on the way we defined our Student class so far, we can still instantiate it (Create objects of type \"Student\")"
   ]
  },
  {
   "cell_type": "code",
   "execution_count": null,
   "metadata": {},
   "outputs": [],
   "source": [
    "Student base = Student(22);"
   ]
  },
  {
   "cell_type": "code",
   "execution_count": null,
   "metadata": {},
   "outputs": [],
   "source": [
    "base.get_dorm()"
   ]
  },
  {
   "cell_type": "markdown",
   "metadata": {},
   "source": [
    "What if we wanted to prevent people from creating a Student object on its own, and force all students to belong to one of the child classes (either Local_Students or SCPD_Students)?  Then, we would want to create an **abstract class** - a class that specifies some of the functionality of its children, but cannot be instantiated.\n",
    "\n",
    "We will illustrate this by moving on to another example from the Python OOP lecture."
   ]
  },
  {
   "cell_type": "markdown",
   "metadata": {},
   "source": [
    "#### Example"
   ]
  },
  {
   "cell_type": "markdown",
   "metadata": {},
   "source": [
    "```\n",
    "import math\n",
    "\n",
    "class Shape:\n",
    "    def GetArea(self):\n",
    "        raise RuntimeError(\"Not implemented yet\")\n",
    "\n",
    "class Circle(Shape):\n",
    "    def __init__ (self, x, y, radius):\n",
    "        self.x = x\n",
    "        self.y = y\n",
    "        self.radius = radius\n",
    "\n",
    "    def GetArea(self):\n",
    "        area = math.pi * math.pow(self.radius, 2)\n",
    "        return area\n",
    "\n",
    "class Rectangle(Shape):\n",
    "    def __init__ (self, x0, y0, x1, y1):\n",
    "        self.x0 = x0\n",
    "        self.y0 = y0\n",
    "        self.x1 = x1\n",
    "        self.y1 = y1\n",
    "\n",
    "    def GetArea(self):\n",
    "        xDistance = self.x1 - self.x0\n",
    "        yDistance = self.y1 - self.y0\n",
    "        return abs(xDistance * yDistance)\n",
    "```"
   ]
  },
  {
   "cell_type": "markdown",
   "metadata": {},
   "source": [
    "Recall - in this example, Shape is an abstract class which cannot be instantiated. Here is the same code, but implemented in C++:"
   ]
  },
  {
   "cell_type": "code",
   "execution_count": null,
   "metadata": {},
   "outputs": [],
   "source": [
    "class Shape {\n",
    "  public:\n",
    "    //Notice, the virtual keyword and \"= 0\" \n",
    "    virtual double GetArea() = 0;\n",
    "}"
   ]
  },
  {
   "cell_type": "code",
   "execution_count": null,
   "metadata": {},
   "outputs": [],
   "source": [
    "#include <math.h>\n",
    "\n",
    "class Circle: public Shape {\n",
    "    double x_;\n",
    "    double y_;\n",
    "    double radius_;\n",
    "    \n",
    "  public:\n",
    "    Circle(double x, \n",
    "           double y, \n",
    "           double radius):\n",
    "        x_(x), y_(y), radius_(radius){};\n",
    "    \n",
    "    double GetArea(){\n",
    "        return M_PI * radius_ * radius_;\n",
    "    };\n",
    "    \n",
    "}"
   ]
  },
  {
   "cell_type": "code",
   "execution_count": null,
   "metadata": {},
   "outputs": [],
   "source": [
    "class Rectangle: public Shape {\n",
    "    double x0_;\n",
    "    double y0_;\n",
    "    double x1_;\n",
    "    double y1_;\n",
    "    \n",
    "  public:\n",
    "    Rectangle(double x0, \n",
    "              double y0, \n",
    "              double x1, \n",
    "              double y1):\n",
    "    x0_(x0), y0_(y0), x1_(x1), y1_(y1){}; \n",
    "    \n",
    "    double GetArea(){\n",
    "        return abs(x0_ - x1_) * abs(y0_ - y1_);\n",
    "    }\n",
    "    \n",
    "}"
   ]
  },
  {
   "cell_type": "code",
   "execution_count": null,
   "metadata": {},
   "outputs": [],
   "source": [
    "// First, what happens if we try to instantiate Shape?\n",
    "Shape shape = Shape();"
   ]
  },
  {
   "cell_type": "code",
   "execution_count": null,
   "metadata": {},
   "outputs": [],
   "source": [
    "Rectangle rect = Rectangle(0,0,2,5);"
   ]
  },
  {
   "cell_type": "code",
   "execution_count": null,
   "metadata": {},
   "outputs": [],
   "source": [
    "rect.GetArea()"
   ]
  },
  {
   "cell_type": "code",
   "execution_count": null,
   "metadata": {},
   "outputs": [],
   "source": [
    "Circle circ = Circle(0,0,6);"
   ]
  },
  {
   "cell_type": "code",
   "execution_count": null,
   "metadata": {},
   "outputs": [],
   "source": [
    "circ.GetArea()"
   ]
  },
  {
   "cell_type": "markdown",
   "metadata": {},
   "source": [
    "#### 5.1 Pure virtual methods\n",
    "Recap: What did we just observe?\n",
    "\n",
    "* We declared a function `virtual double GetArea() = 0;` in the Shape class. The =0 syntax told the compiler that this was a **pure virtual** function, meaning that it cannot be executed in the base class.\n",
    "* Any class with >= 1 pure virtual function is understood to be an **abstract class** in C++, meaning that it cannot be instantiated."
   ]
  },
  {
   "cell_type": "markdown",
   "metadata": {},
   "source": [
    "**Q: Does the concept of polymorphism still apply even with an abstract class, such as \"Shape\"?**\n",
    "A: Yes. It is still valid to have a pointer of type Shape."
   ]
  },
  {
   "cell_type": "code",
   "execution_count": null,
   "metadata": {},
   "outputs": [],
   "source": [
    "std::vector<Shape*> my_vector;\n",
    "\n",
    "my_vector.emplace_back(&circ);\n",
    "my_vector.emplace_back(&rect);"
   ]
  },
  {
   "cell_type": "code",
   "execution_count": null,
   "metadata": {},
   "outputs": [],
   "source": [
    "double total_area = 0.0;\n",
    "for (int i = 0; i < my_vector.size(); i++){\n",
    "    total_area += my_vector[i]->GetArea();\n",
    "}"
   ]
  },
  {
   "cell_type": "code",
   "execution_count": null,
   "metadata": {
    "scrolled": true
   },
   "outputs": [],
   "source": [
    "total_area"
   ]
  },
  {
   "cell_type": "markdown",
   "metadata": {},
   "source": [
    "### Composition"
   ]
  },
  {
   "cell_type": "markdown",
   "metadata": {},
   "source": [
    "Composition is another type of relationship between objects.  Composition is when objects relate in a \"has a\" relationship.\n",
    "\n",
    "Here is an example where we create a `Point2D` class to define point-specific methods, and then re-implement our Circle class to **have** a `Point2D` to represent its center."
   ]
  },
  {
   "cell_type": "code",
   "execution_count": null,
   "metadata": {},
   "outputs": [],
   "source": [
    "#include <iostream>"
   ]
  },
  {
   "cell_type": "code",
   "execution_count": null,
   "metadata": {},
   "outputs": [],
   "source": [
    "class Point2D\n",
    "{\n",
    "private:\n",
    "    double x_;\n",
    "    double y_;\n",
    " \n",
    "public:\n",
    "    // A default constructor\n",
    "    Point2D(){};\n",
    " \n",
    "    Point2D(double x, double y): x_(x), y_(y){};\n",
    " \n",
    "    // An overloaded output operator\n",
    "    friend std::ostream& operator<<(std::ostream& out, const Point2D &point)\n",
    "    {\n",
    "        out << \"(\" << point.x_ << \", \" << point.y_ << \")\";\n",
    "        return out;\n",
    "    }\n",
    " \n",
    "};"
   ]
  },
  {
   "cell_type": "code",
   "execution_count": null,
   "metadata": {},
   "outputs": [],
   "source": [
    "Point2D p = Point2D(4,5)"
   ]
  },
  {
   "cell_type": "code",
   "execution_count": null,
   "metadata": {},
   "outputs": [],
   "source": [
    "std::cout << p << std::endl;"
   ]
  },
  {
   "cell_type": "code",
   "execution_count": null,
   "metadata": {},
   "outputs": [],
   "source": [
    "class Circle2: public Shape {\n",
    "    Point2D center_;\n",
    "    double radius_;\n",
    "    \n",
    "  public:\n",
    "    Circle2(double x, double y, double radius):center_(x, y), radius_(radius){};\n",
    "    \n",
    "    // A default constructor\n",
    "    Circle2(){};\n",
    "    \n",
    "    double GetArea(){\n",
    "        return M_PI * radius_ * radius_;\n",
    "    };\n",
    "    \n",
    "    const Point2D* GetLocation(){\n",
    "        return &center_;\n",
    "    }\n",
    "    \n",
    "}"
   ]
  },
  {
   "cell_type": "code",
   "execution_count": null,
   "metadata": {},
   "outputs": [],
   "source": [
    "Circle2 circle = Circle2(4,3,2);"
   ]
  },
  {
   "cell_type": "code",
   "execution_count": null,
   "metadata": {
    "scrolled": true
   },
   "outputs": [],
   "source": [
    "circle.GetArea()"
   ]
  },
  {
   "cell_type": "code",
   "execution_count": null,
   "metadata": {},
   "outputs": [],
   "source": [
    "std::cout << *(circle.GetLocation()) << std::endl;"
   ]
  },
  {
   "cell_type": "code",
   "execution_count": null,
   "metadata": {},
   "outputs": [],
   "source": [
    "Circle2 circle2 = Circle2();"
   ]
  },
  {
   "cell_type": "code",
   "execution_count": null,
   "metadata": {},
   "outputs": [],
   "source": [
    "// What value will this return?\n",
    "std::cout << *(circle2.GetLocation()) << std::endl;"
   ]
  },
  {
   "cell_type": "code",
   "execution_count": null,
   "metadata": {},
   "outputs": [],
   "source": []
  }
 ],
 "metadata": {
  "kernelspec": {
   "display_name": "C++11",
   "language": "C++11",
   "name": "xeus-cling-cpp11"
  },
  "language_info": {
   "codemirror_mode": "text/x-c++src",
   "file_extension": ".cpp",
   "mimetype": "text/x-c++src",
   "name": "c++",
   "version": "-std=c++11"
  }
 },
 "nbformat": 4,
 "nbformat_minor": 2
}
