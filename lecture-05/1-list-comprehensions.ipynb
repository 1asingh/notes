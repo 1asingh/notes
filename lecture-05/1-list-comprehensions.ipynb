{
 "cells": [
  {
   "cell_type": "markdown",
   "metadata": {},
   "source": [
    "## List comprehensions\n",
    "\n",
    "It is a common programming task to produce a list whose elements are the\n",
    "result of a function applied to another list.  For example:"
   ]
  },
  {
   "cell_type": "code",
   "execution_count": null,
   "metadata": {},
   "outputs": [],
   "source": [
    "def square(x):\n",
    "    return x*x\n",
    "\n",
    "my_list = [1,2,3,4,5,6,7,8]\n",
    "\n",
    "new_list = []\n",
    "for x in my_list:\n",
    "    new_list.append(x*x)\n",
    "\n",
    "print(new_list)"
   ]
  },
  {
   "cell_type": "markdown",
   "metadata": {},
   "source": [
    "This is so common that Python has special syntax to achieve the same thing:"
   ]
  },
  {
   "cell_type": "code",
   "execution_count": null,
   "metadata": {},
   "outputs": [],
   "source": [
    "list_comp = [x*x for x in my_list]\n",
    "print(list_comp)"
   ]
  },
  {
   "cell_type": "markdown",
   "metadata": {},
   "source": [
    "This is called a [list comprehension][py-list-comp].  It creates a new list by\n",
    "applying an operation to each item of another list.\n",
    "\n",
    "[py-list-comp]: https://docs.python.org/3/tutorial/datastructures.html#list-comprehensions\n",
    "\n",
    "It is also possible to filter out elements of list in a comprehension:"
   ]
  },
  {
   "cell_type": "code",
   "execution_count": null,
   "metadata": {},
   "outputs": [],
   "source": [
    "my_list = [1,2,3,4,5,6,7,8,9,10,11]\n",
    "odds = [x for x in my_list if x % 2 != 0]\n",
    "odds"
   ]
  },
  {
   "cell_type": "markdown",
   "metadata": {},
   "source": [
    "Python also has [set][so-set-comp] and [dictionary][so-dict-comp]\n",
    "comprehensions.\n",
    "\n",
    "[so-set-comp]: http://stackoverflow.com/documentation/python/196/comprehensions/745/set-comprehensions#t=201609141607227980614\n",
    "[so-dict-comp]: http://stackoverflow.com/documentation/python/196/comprehensions/738/dictionary-comprehensions#t=201609141607227980614\n",
    "\n",
    "## References\n",
    "\n",
    "* [List comprehensions in Python Tutorial][py-list-comp]\n",
    "\n",
    "[py-list-comp]: https://docs.python.org/3/tutorial/datastructures.html#list-comprehensions"
   ]
  }
 ],
 "metadata": {},
 "nbformat": 4,
 "nbformat_minor": 1
}
