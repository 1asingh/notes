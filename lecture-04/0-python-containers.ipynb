{
 "cells": [
  {
   "cell_type": "markdown",
   "metadata": {},
   "source": [
    "# CME 211 Lecture 4: Python containers\n",
    "\n",
    "## Containers\n",
    "\n",
    "* *Containers* are objects that contain one or more other objects\n",
    "\n",
    "* *Containers* are sometimes called \"collections\" or \"data structures\"\n",
    "\n",
    "* In lecture 3, we introduced the Python `list` container\n",
    "\n",
    "* Today we will see Dictionaries, Sets, and Tuples\n",
    "\n",
    "### Sequential\n",
    "\n",
    "**Sequential containers** store data items in a specified order.  Think elements\n",
    "of a vector, names in a list of people that you want to invite to your\n",
    "birthday party.  The most fundamental Python data type for this is called a\n",
    "`list`.  Later in the course we will learn about containers that are more\n",
    "appropriate (and faster) for numerical data that come from NumPy.\n",
    "\n",
    "We have seen lists in lecture 3:"
   ]
  },
  {
   "cell_type": "code",
   "execution_count": null,
   "metadata": {},
   "outputs": [],
   "source": [
    "my_list = [4, 8.99, 'list item', [\"sub\",\"list\"]]\n",
    "print(my_list)"
   ]
  },
  {
   "cell_type": "markdown",
   "metadata": {},
   "source": [
    "Python has another built-in sequential container called a `tuple`.  Tuples are a\n",
    "lot like lists, but the elements cannot be modified after the tuple is created."
   ]
  },
  {
   "cell_type": "code",
   "execution_count": null,
   "metadata": {},
   "outputs": [],
   "source": [
    "my_tup = (1,2,\"str\",99.99)\n",
    "print(my_tup)\n",
    "print(my_tup[1])"
   ]
  },
  {
   "cell_type": "code",
   "execution_count": null,
   "metadata": {},
   "outputs": [],
   "source": [
    "my_tup[1] = \"new item\""
   ]
  },
  {
   "cell_type": "markdown",
   "metadata": {},
   "source": [
    "Tuples are said to be immutable.  We'll see why this is important later.\n",
    "\n",
    "### Associative\n",
    "\n",
    "**Associative containers** store data, organized by a unique *key*.  Think of a\n",
    "dictionary of word definitions.  They unique *key* is a word, the value\n",
    "associated with the key is the definition.  In Python, this is represented with\n",
    "the built-in `dict` or Dictionary type.  You will soon learn the greatness of\n",
    "dictionaries in Python."
   ]
  },
  {
   "cell_type": "code",
   "execution_count": null,
   "metadata": {},
   "outputs": [],
   "source": [
    "emails = dict()\n",
    "emails['andreas'] = 'andreas@mail.com'\n",
    "emails['nick'] = 'nwh@stanford.net'\n",
    "print(emails)"
   ]
  },
  {
   "cell_type": "markdown",
   "metadata": {},
   "source": [
    "Access a single element:"
   ]
  },
  {
   "cell_type": "code",
   "execution_count": null,
   "metadata": {},
   "outputs": [],
   "source": [
    "emails['nick']"
   ]
  },
  {
   "cell_type": "markdown",
   "metadata": {},
   "source": [
    "What if a key is not there?"
   ]
  },
  {
   "cell_type": "code",
   "execution_count": null,
   "metadata": {},
   "outputs": [],
   "source": [
    "emails['cindy']"
   ]
  },
  {
   "cell_type": "markdown",
   "metadata": {},
   "source": [
    "### Sets / Unique\n",
    "\n",
    "**Set containers** store unique data items.  They are related to dictionaries,\n",
    "because dictionaries require the keys to be unique."
   ]
  },
  {
   "cell_type": "code",
   "execution_count": null,
   "metadata": {},
   "outputs": [],
   "source": [
    "dinos = set()\n",
    "dinos.add('triceratops')\n",
    "dinos.add('t-rex')\n",
    "dinos.add('raptor')\n",
    "print(dinos)\n",
    "dinos.add('pterodactyl')\n",
    "dinos.add('t-rex')\n",
    "print(dinos)"
   ]
  }
 ],
 "metadata": {},
 "nbformat": 4,
 "nbformat_minor": 1
}
