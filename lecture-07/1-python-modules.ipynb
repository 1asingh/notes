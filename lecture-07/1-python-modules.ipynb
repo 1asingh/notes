{
 "cells": [
  {
   "cell_type": "markdown",
   "metadata": {},
   "source": [
    "## Python modules\n",
    "\n",
    "### Organization\n",
    "\n",
    "* Your code should be organized in some way\n",
    "\n",
    "* Code should often be split across multiple files for ease of maintenance and\n",
    "  reuse\n",
    "\n",
    "* For large projects you will probably have multiple directories each with\n",
    "  multiple files\n",
    "\n",
    "### Modules\n",
    "\n",
    "* Code in Python can be organized and accessed as modules\n",
    "\n",
    "* We've already used some modules that are part of Python (`math`, `time`, etc.)\n",
    "\n",
    "* These modules were accessed using the import statement\n",
    "\n",
    "### Import\n",
    "\n",
    "Here is an example of importing and using a function from the `time` module:"
   ]
  },
  {
   "cell_type": "code",
   "execution_count": null,
   "metadata": {},
   "outputs": [],
   "source": [
    "import time\n",
    "time.time()"
   ]
  },
  {
   "cell_type": "code",
   "execution_count": null,
   "metadata": {},
   "outputs": [],
   "source": [
    "time()"
   ]
  },
  {
   "cell_type": "code",
   "execution_count": null,
   "metadata": {},
   "outputs": [],
   "source": [
    "print(type(time))\n",
    "print(type(time.time))"
   ]
  },
  {
   "cell_type": "markdown",
   "metadata": {},
   "source": [
    "Keep in mind that the module name/object is different then the function that\n",
    "exists inside of the module.\n",
    "\n",
    "### Reference to a function\n",
    "\n",
    "Functions are also objects and may be assigned to a variable:"
   ]
  },
  {
   "cell_type": "code",
   "execution_count": null,
   "metadata": {},
   "outputs": [],
   "source": [
    "t = time.time\n",
    "type(t)"
   ]
  },
  {
   "cell_type": "code",
   "execution_count": null,
   "metadata": {},
   "outputs": [],
   "source": [
    "t is time.time"
   ]
  },
  {
   "cell_type": "code",
   "execution_count": null,
   "metadata": {},
   "outputs": [],
   "source": [
    "t()"
   ]
  },
  {
   "cell_type": "markdown",
   "metadata": {},
   "source": [
    "### Import a single function\n",
    "\n",
    "We can import a single function from a module:"
   ]
  },
  {
   "cell_type": "code",
   "execution_count": null,
   "metadata": {},
   "outputs": [],
   "source": [
    "from time import time\n",
    "print(type(time))\n",
    "print(time())"
   ]
  },
  {
   "cell_type": "code",
   "execution_count": null,
   "metadata": {},
   "outputs": [],
   "source": [
    "import time\n",
    "print(type(time))\n",
    "print(time.time())"
   ]
  },
  {
   "cell_type": "markdown",
   "metadata": {},
   "source": [
    "Another example is `from math import sqrt`.\n",
    "\n",
    "### Import and rename\n",
    "\n",
    "We can rename a function in the import statement:"
   ]
  },
  {
   "cell_type": "code",
   "execution_count": null,
   "metadata": {},
   "outputs": [],
   "source": [
    "from time import time as timer\n",
    "print(type(timer))\n",
    "print(timer())"
   ]
  },
  {
   "cell_type": "markdown",
   "metadata": {},
   "source": [
    "### Wild card import\n",
    "\n",
    "We can import everything from a module into the global namespace with:"
   ]
  },
  {
   "cell_type": "code",
   "execution_count": null,
   "metadata": {},
   "outputs": [],
   "source": [
    "from time import *\n",
    "print(type(time))\n",
    "print(time())"
   ]
  },
  {
   "cell_type": "markdown",
   "metadata": {},
   "source": [
    "This is normally not a good idea, because you may unknowingly overwrite some\n",
    "symbols that have been defined elsewhere.\n",
    "\n",
    "### Modules and namespaces\n",
    "\n",
    "* Not only do modules allow you to separate code into multiple files, but they\n",
    "  also provide distinct namespaces\n",
    "\n",
    "* Namespaces are particularly important in larger projects where reuse of common\n",
    "  terms could be confusing at best\n",
    "\n",
    "* Attribute renaming and/or wild card imports can make code less readable and\n",
    "  more difficult to debug\n",
    "\n",
    "#### Example\n",
    "\n",
    "Here we know where `time()` is coming from:"
   ]
  },
  {
   "cell_type": "markdown",
   "metadata": {},
   "source": [
    "```py\n",
    "import time\n",
    "import mymodule\n",
    "# ...\n",
    "t = time.time()\n",
    "```\n"
   ]
  },
  {
   "cell_type": "markdown",
   "metadata": {},
   "source": [
    "Does `time()` come from `time` or `mymodule`?"
   ]
  },
  {
   "cell_type": "markdown",
   "metadata": {},
   "source": [
    "```py\n",
    "from time import *\n",
    "from mymodule import *\n",
    "# ...\n",
    "t = time()\n",
    "```\n"
   ]
  },
  {
   "cell_type": "markdown",
   "metadata": {},
   "source": [
    "**Recommendation:** be explicit when using module functions!\n",
    "\n",
    "### Writing your first module\n",
    "\n",
    "See file `mymodule1.py`:"
   ]
  },
  {
   "cell_type": "markdown",
   "metadata": {},
   "source": [
    "```py\n",
    "def summation(a,b):\n",
    "    total = 0\n",
    "    for n in range(a,b+1):\n",
    "        total += n\n",
    "    return total\n",
    "\n",
    "primes = [2, 3, 5, 7, 11, 13, 17, 19, 23, 29, 31, 37, 41, 43, 47]\n",
    "```\n"
   ]
  },
  {
   "cell_type": "markdown",
   "metadata": {},
   "source": [
    "### Using your first module\n",
    "\n",
    "From the command line working in the `lecture-07` directory:"
   ]
  },
  {
   "cell_type": "markdown",
   "metadata": {},
   "source": [
    "```\n",
    "$ python3\n",
    ">>> import mymodule1\n",
    ">>> mymodule1.summation(1,100)\n",
    "5050\n",
    ">>> mymodule1.primes\n",
    "[2, 3, 5, 7, 11, 13, 17, 19, 23, 29, 31, 37, 41, 43, 47]\n",
    "```\n"
   ]
  },
  {
   "cell_type": "markdown",
   "metadata": {},
   "source": [
    "From Jupyter notebook:"
   ]
  },
  {
   "cell_type": "code",
   "execution_count": null,
   "metadata": {},
   "outputs": [],
   "source": [
    "import mymodule1\n",
    "print(mymodule1.summation(1,100))\n",
    "print(mymodule1.primes)"
   ]
  },
  {
   "cell_type": "markdown",
   "metadata": {},
   "source": [
    "### Improving your module\n",
    "\n",
    "Add test code in file `mymodule2.py`:"
   ]
  },
  {
   "cell_type": "markdown",
   "metadata": {},
   "source": [
    "```py\n",
    "def summation(a,b):\n",
    "    total = 0\n",
    "    for n in range(a,b+1):\n",
    "        total += n\n",
    "    return total\n",
    "\n",
    "primes = [2, 3, 5, 7, 11, 13, 17, 19, 23, 29, 31, 37, 41, 43, 47]\n",
    "\n",
    "print('Testing function summation():...'),\n",
    "total = summation(1,100)\n",
    "if (total == 5050):\n",
    "    print('OK')\n",
    "else:\n",
    "    print('FAILED')\n",
    "```\n"
   ]
  },
  {
   "cell_type": "markdown",
   "metadata": {},
   "source": [
    "### Testing your new module"
   ]
  },
  {
   "cell_type": "code",
   "execution_count": null,
   "metadata": {},
   "outputs": [],
   "source": [
    "import mymodule2\n",
    "print(mymodule2.summation(1,100))\n",
    "print(mymodule2.primes)"
   ]
  },
  {
   "cell_type": "markdown",
   "metadata": {},
   "source": [
    "### Import process\n",
    "\n",
    "When you do `import mymodule2` several things happen\n",
    "\n",
    "1. Python interpreter looks for a `.py` file with the same name as the module,\n",
    "starting with your current directory followed by looking in system wide\n",
    "locations\n",
    "\n",
    "2. Code is byte compiled from the `.py` file to a `.pyc` file\n",
    "\n",
    "3. File is processed from top to bottom\n",
    "\n",
    "### Locating modules\n",
    "\n",
    "* Searches for a module are based on directories in the `sys.path` list\n",
    "\n",
    "* First item in the `sys.path` list is an empty string, `''`, which is used to\n",
    "  denote the current directory"
   ]
  },
  {
   "cell_type": "code",
   "execution_count": null,
   "metadata": {},
   "outputs": [],
   "source": [
    "%ls"
   ]
  },
  {
   "cell_type": "code",
   "execution_count": null,
   "metadata": {},
   "outputs": [],
   "source": [
    "import sys\n",
    "print(sys.path)"
   ]
  },
  {
   "cell_type": "markdown",
   "metadata": {},
   "source": [
    "Let's remove this directory from `sys.path` and try to load a module (that we\n",
    "have not yet loaded)."
   ]
  },
  {
   "cell_type": "code",
   "execution_count": null,
   "metadata": {},
   "outputs": [],
   "source": [
    "import sys\n",
    "sys.path.remove('')\n",
    "import mymodule3"
   ]
  },
  {
   "cell_type": "markdown",
   "metadata": {},
   "source": [
    "If we add it back, everything will be ok:"
   ]
  },
  {
   "cell_type": "code",
   "execution_count": null,
   "metadata": {},
   "outputs": [],
   "source": [
    "sys.path.insert(0,'')\n",
    "import mymodule3"
   ]
  },
  {
   "cell_type": "markdown",
   "metadata": {},
   "source": [
    "### `.pyc` files"
   ]
  },
  {
   "cell_type": "markdown",
   "metadata": {},
   "source": [
    "```\n",
    "$ ls *.py*\n",
    "mymodule1.py  mymodule1.pyc  mymodule2.py  mymodule2.pyc\n",
    "```\n"
   ]
  },
  {
   "cell_type": "markdown",
   "metadata": {},
   "source": [
    "* When you import a file Python byte compiles the file\n",
    "\n",
    "* `.pyc` files are faster to load, but the runtime performance once you have\n",
    "  them loaded is exactly the same\n",
    "\n",
    "### `__name__` and `__main__`\n",
    "\n",
    "* Special variable `__name__` is equal to `__main__` if the file is being\n",
    "  executed as the main program\n",
    "\n",
    "* `__name__` will not be equal to `__main__` if the file is being imported\n",
    "\n",
    "### \"Hiding\" code during import\n",
    "\n",
    "See `mymodule3.py`"
   ]
  },
  {
   "cell_type": "markdown",
   "metadata": {},
   "source": [
    "```py\n",
    "def summation(a,b):\n",
    "    total = 0\n",
    "    for n in range(a,b+1):\n",
    "        total += n\n",
    "    return total\n",
    "\n",
    "primes = [2, 3, 5, 7, 11, 13, 17, 19, 23, 29, 31, 37, 41, 43, 47]\n",
    "\n",
    "if __name__ == '__main__':\n",
    "    print('Testing function summation():...', end='')\n",
    "    total = summation(1,100)\n",
    "    if (total == 5050):\n",
    "        print('OK')\n",
    "    else:\n",
    "        print('FAILED')\n",
    "```\n"
   ]
  },
  {
   "cell_type": "markdown",
   "metadata": {},
   "source": [
    "### Another try at importing"
   ]
  },
  {
   "cell_type": "code",
   "execution_count": null,
   "metadata": {},
   "outputs": [],
   "source": [
    "import mymodule3\n",
    "print(mymodule3.summation(1,100))\n",
    "print(mymodule3.primes)"
   ]
  },
  {
   "cell_type": "markdown",
   "metadata": {},
   "source": [
    "### Running the test code\n",
    "\n",
    "From the command line:"
   ]
  },
  {
   "cell_type": "markdown",
   "metadata": {},
   "source": [
    "```\n",
    "$ python3 mymodule3.py\n",
    "Testing function summation()... OK\n",
    "```\n"
   ]
  },
  {
   "cell_type": "markdown",
   "metadata": {},
   "source": [
    "### Documenting the module\n",
    "\n",
    "See `mymodule4.py`:"
   ]
  },
  {
   "cell_type": "markdown",
   "metadata": {},
   "source": [
    "```py\n",
    "\"\"\"\n",
    "My module of misc code.\n",
    "\"\"\"\n",
    "\n",
    "def summation(a,b):\n",
    "    \"\"\"\n",
    "    Returns the sum of numbers between, and including, a and b.\n",
    "    \"\"\"\n",
    "\n",
    "    total = 0\n",
    "    for n in range(a,b+1):\n",
    "        total += n\n",
    "    return total\n",
    "\n",
    "primes = [2, 3, 5, 7, 11, 13, 17, 19, 23, 29, 31, 37, 41, 43, 47]\n",
    "\n",
    "if __name__ == '__main__':\n",
    "    print('Testing function summation():...'),\n",
    "    total = summation(1,100)\n",
    "    if (total == 5050):\n",
    "        print('OK')\n",
    "    else:\n",
    "        print('FAILED')\n",
    "```\n"
   ]
  },
  {
   "cell_type": "markdown",
   "metadata": {},
   "source": [
    "### Accessing your documentation"
   ]
  },
  {
   "cell_type": "code",
   "execution_count": null,
   "metadata": {},
   "outputs": [],
   "source": [
    "import mymodule4\n",
    "help(mymodule4)"
   ]
  },
  {
   "cell_type": "markdown",
   "metadata": {},
   "source": [
    "### Recommended Reading\n",
    "\n",
    "* Chapter 22: Modules: The Big Picture\n",
    "\n",
    "* Chapter 23: Module Coding Basics"
   ]
  }
 ],
 "metadata": {},
 "nbformat": 4,
 "nbformat_minor": 1
}
