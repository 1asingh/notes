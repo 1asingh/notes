{
 "cells": [
  {
   "cell_type": "markdown",
   "metadata": {},
   "source": [
    "## Python Error Handling\n",
    "\n",
    "### Syntax Errors\n",
    "\n",
    "A syntax error is incorrect in the context of the language.  Code containing\n",
    "syntax errors cannot be executed by the Python interpreter.  Here are a few\n",
    "examples:"
   ]
  },
  {
   "cell_type": "code",
   "execution_count": null,
   "metadata": {},
   "outputs": [],
   "source": [
    "# forgetting :\n",
    "def my_func()\n",
    "    print(\"hello from my_func\")"
   ]
  },
  {
   "cell_type": "code",
   "execution_count": null,
   "metadata": {},
   "outputs": [],
   "source": [
    "# not closing a bracket\n",
    "a = [1, 2, 3"
   ]
  },
  {
   "cell_type": "code",
   "execution_count": null,
   "metadata": {},
   "outputs": [],
   "source": [
    "# missing comma\n",
    "a = [1, 2 3, 4]"
   ]
  },
  {
   "cell_type": "markdown",
   "metadata": {},
   "source": [
    "### Runtime Errors\n",
    "\n",
    "Runtime errors occur when syntactically correct code does something wrong (like\n",
    "attempt to access a list out of bounds, or divide an integer by zero).\n",
    "\n",
    "We have seen these before:"
   ]
  },
  {
   "cell_type": "code",
   "execution_count": null,
   "metadata": {},
   "outputs": [],
   "source": [
    "a = [3, 7]\n",
    "a[2]"
   ]
  },
  {
   "cell_type": "code",
   "execution_count": null,
   "metadata": {},
   "outputs": [],
   "source": [
    "b = {'cupcakes' : 7, 'brownies' : 2}\n",
    "b['cookies']"
   ]
  },
  {
   "cell_type": "markdown",
   "metadata": {},
   "source": [
    "### Exceptions\n",
    "\n",
    "* Runtime errors generate exceptions\n",
    "\n",
    "* Exceptions can potentially be caught\n",
    "\n",
    "* Uncaught exceptions propagate up to the interpreter, which halts execution and\n",
    "  displays the information in a traceback\n",
    "\n",
    "* Python uses a try/except model for error handling"
   ]
  },
  {
   "cell_type": "code",
   "execution_count": null,
   "metadata": {},
   "outputs": [],
   "source": [
    "f = open('thisfiledoesntexist.txt')"
   ]
  },
  {
   "cell_type": "code",
   "execution_count": null,
   "metadata": {},
   "outputs": [],
   "source": [
    "try:\n",
    "    f = open('thisfiledoesntexist.txt')\n",
    "except IOError:\n",
    "    print(\"That filename doesn't exist.\")"
   ]
  },
  {
   "cell_type": "markdown",
   "metadata": {},
   "source": [
    "Here, we caught the exception raised when `open` could not find the file.\n",
    "The `try-except` syntax allows us to control what happens when an exception\n",
    "occurs.\n",
    "\n",
    "### Catching multiple exceptions\n",
    "\n",
    "Specific exceptions can be handled by specifying the exception type after\n",
    "`except`."
   ]
  },
  {
   "cell_type": "code",
   "execution_count": null,
   "metadata": {},
   "outputs": [],
   "source": [
    "try:\n",
    "    5/0\n",
    "except IOError:\n",
    "    print('I/O error')\n",
    "except ZeroDivisionError:\n",
    "    print('Zero division error')\n",
    "except Exception as e:\n",
    "    # here we get access to the exception object\n",
    "    print(e)"
   ]
  },
  {
   "cell_type": "markdown",
   "metadata": {},
   "source": [
    "### Raising exceptions\n",
    "\n",
    "From `mymodule5.py`:"
   ]
  },
  {
   "cell_type": "code",
   "execution_count": null,
   "metadata": {},
   "outputs": [],
   "source": [
    "import types\n",
    "\n",
    "def summation(a,b):\n",
    "    \"\"\"\n",
    "    Returns the sum of numbers between, and including, a and b.\n",
    "    \"\"\"\n",
    "\n",
    "    if (type(a) != types.IntType or type(b) != types.IntType):\n",
    "        raise ValueError('Expected integers')\n",
    "\n",
    "    total = 0\n",
    "    for n in range(a,b+1):\n",
    "        total += n\n",
    "    return total"
   ]
  },
  {
   "cell_type": "markdown",
   "metadata": {},
   "source": [
    "Using:"
   ]
  },
  {
   "cell_type": "code",
   "execution_count": null,
   "metadata": {},
   "outputs": [],
   "source": [
    "import mymodule4\n",
    "mymodule4.summation(1,'hello')"
   ]
  },
  {
   "cell_type": "code",
   "execution_count": null,
   "metadata": {},
   "outputs": [],
   "source": [
    "import mymodule5\n",
    "mymodule5.summation(1,'hello')"
   ]
  },
  {
   "cell_type": "markdown",
   "metadata": {},
   "source": [
    "### Recommended Reading\n",
    "\n",
    "* [Python Tutorial: Errors and Exceptions][py-err]\n",
    "\n",
    "* Chapter 33: Exception Basics\n",
    "\n",
    "* Chapter 34: Exception Coding Details\n",
    "\n",
    "[py-err]: https://docs.python.org/3/tutorial/errors.html"
   ]
  }
 ],
 "metadata": {},
 "nbformat": 4,
 "nbformat_minor": 1
}
